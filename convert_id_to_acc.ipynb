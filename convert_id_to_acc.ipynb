{
 "cells": [
  {
   "cell_type": "code",
   "execution_count": 2,
   "id": "c0ced622-5147-4bfd-97e5-8b3e178d52bf",
   "metadata": {},
   "outputs": [],
   "source": [
    "import pandas as pd\n",
    "df = pd.read_csv('data/rna-seq/GLDS-48_rna_seq_Normalized_Counts.csv')\n",
    "first_column_data = df.iloc[:10, 0]\n",
    "\n",
    "gene_id_list = first_column_data.astype(str).tolist()"
   ]
  },
  {
   "cell_type": "code",
   "execution_count": 3,
   "id": "ae5de6c2-cec3-46b6-9f44-ab5199a02eb2",
   "metadata": {},
   "outputs": [
    {
     "data": {
      "text/plain": [
       "['ENSMUSG00000000001',\n",
       " 'ENSMUSG00000000028',\n",
       " 'ENSMUSG00000000031',\n",
       " 'ENSMUSG00000000037',\n",
       " 'ENSMUSG00000000049',\n",
       " 'ENSMUSG00000000056',\n",
       " 'ENSMUSG00000000058',\n",
       " 'ENSMUSG00000000078',\n",
       " 'ENSMUSG00000000085',\n",
       " 'ENSMUSG00000000088']"
      ]
     },
     "execution_count": 3,
     "metadata": {},
     "output_type": "execute_result"
    }
   ],
   "source": [
    "gene_id_list"
   ]
  },
  {
   "cell_type": "code",
   "execution_count": 4,
   "id": "5a766b0d-c76a-49b8-a32b-d20e93253ad1",
   "metadata": {},
   "outputs": [],
   "source": [
    "import gget"
   ]
  },
  {
   "cell_type": "code",
   "execution_count": 5,
   "id": "d96b6f8e-d7e3-4c63-92a0-55a203457d58",
   "metadata": {},
   "outputs": [
    {
     "name": "stderr",
     "output_type": "stream",
     "text": [
      "Mon Nov 13 13:52:40 2023 WARNING ID 'ENSMUSG00000000001' not found. Please double-check spelling/arguments and try again.\n",
      "Mon Nov 13 13:52:40 2023 WARNING ID 'ENSMUSG00000000028' not found. Please double-check spelling/arguments and try again.\n",
      "Mon Nov 13 13:52:40 2023 WARNING ID 'ENSMUSG00000000031' not found. Please double-check spelling/arguments and try again.\n",
      "Mon Nov 13 13:52:40 2023 WARNING ID 'ENSMUSG00000000037' not found. Please double-check spelling/arguments and try again.\n",
      "Mon Nov 13 13:52:41 2023 WARNING ID 'ENSMUSG00000000056' not found. Please double-check spelling/arguments and try again.\n",
      "Mon Nov 13 13:52:41 2023 WARNING ID 'ENSMUSG00000000058' not found. Please double-check spelling/arguments and try again.\n",
      "Mon Nov 13 13:52:41 2023 WARNING ID 'ENSMUSG00000000078' not found. Please double-check spelling/arguments and try again.\n"
     ]
    }
   ],
   "source": [
    "\n",
    "results = gget.info(gene_id_list)"
   ]
  },
  {
   "cell_type": "code",
   "execution_count": 6,
   "id": "a1d5c9f4-e159-40a9-b7a0-4234640b9705",
   "metadata": {},
   "outputs": [
    {
     "data": {
      "text/html": [
       "<div>\n",
       "<style scoped>\n",
       "    .dataframe tbody tr th:only-of-type {\n",
       "        vertical-align: middle;\n",
       "    }\n",
       "\n",
       "    .dataframe tbody tr th {\n",
       "        vertical-align: top;\n",
       "    }\n",
       "\n",
       "    .dataframe thead th {\n",
       "        text-align: right;\n",
       "    }\n",
       "</style>\n",
       "<table border=\"1\" class=\"dataframe\">\n",
       "  <thead>\n",
       "    <tr style=\"text-align: right;\">\n",
       "      <th></th>\n",
       "      <th>ensembl_id</th>\n",
       "      <th>uniprot_id</th>\n",
       "      <th>pdb_id</th>\n",
       "      <th>ncbi_gene_id</th>\n",
       "      <th>species</th>\n",
       "      <th>assembly_name</th>\n",
       "      <th>primary_gene_name</th>\n",
       "      <th>ensembl_gene_name</th>\n",
       "      <th>synonyms</th>\n",
       "      <th>parent_gene</th>\n",
       "      <th>...</th>\n",
       "      <th>transcript_names</th>\n",
       "      <th>transcript_strands</th>\n",
       "      <th>transcript_starts</th>\n",
       "      <th>transcript_ends</th>\n",
       "      <th>all_exons</th>\n",
       "      <th>exon_starts</th>\n",
       "      <th>exon_ends</th>\n",
       "      <th>all_translations</th>\n",
       "      <th>translation_starts</th>\n",
       "      <th>translation_ends</th>\n",
       "    </tr>\n",
       "  </thead>\n",
       "  <tbody>\n",
       "    <tr>\n",
       "      <th>ENSMUSG00000000049</th>\n",
       "      <td>ENSMUSG00000000049.12</td>\n",
       "      <td>Q01339</td>\n",
       "      <td>NaN</td>\n",
       "      <td>11818</td>\n",
       "      <td>mus_musculus</td>\n",
       "      <td>GRCm39</td>\n",
       "      <td>Apoh</td>\n",
       "      <td>Apoh</td>\n",
       "      <td>[B2GPI, B2gp1, beta-2-GPI, beta2-GPI]</td>\n",
       "      <td>NaN</td>\n",
       "      <td>...</td>\n",
       "      <td>[Apoh-201, Apoh-202, Apoh-203, Apoh-204]</td>\n",
       "      <td>[1, 1, 1, 1]</td>\n",
       "      <td>[108286119, 108234180, 108271990, 108271995]</td>\n",
       "      <td>[108305222, 108286731, 108286676, 108298165]</td>\n",
       "      <td>NaN</td>\n",
       "      <td>NaN</td>\n",
       "      <td>NaN</td>\n",
       "      <td>NaN</td>\n",
       "      <td>NaN</td>\n",
       "      <td>NaN</td>\n",
       "    </tr>\n",
       "    <tr>\n",
       "      <th>ENSMUSG00000000085</th>\n",
       "      <td>ENSMUSG00000000085.17</td>\n",
       "      <td>Q8K214</td>\n",
       "      <td>NaN</td>\n",
       "      <td>29871</td>\n",
       "      <td>mus_musculus</td>\n",
       "      <td>GRCm39</td>\n",
       "      <td>Scmh1</td>\n",
       "      <td>Scmh1</td>\n",
       "      <td>[Scml1, Scml3]</td>\n",
       "      <td>NaN</td>\n",
       "      <td>...</td>\n",
       "      <td>NaN</td>\n",
       "      <td>NaN</td>\n",
       "      <td>NaN</td>\n",
       "      <td>NaN</td>\n",
       "      <td>NaN</td>\n",
       "      <td>NaN</td>\n",
       "      <td>NaN</td>\n",
       "      <td>NaN</td>\n",
       "      <td>NaN</td>\n",
       "      <td>NaN</td>\n",
       "    </tr>\n",
       "    <tr>\n",
       "      <th>ENSMUSG00000000088</th>\n",
       "      <td>ENSMUSG00000000088.8</td>\n",
       "      <td>P12787</td>\n",
       "      <td>NaN</td>\n",
       "      <td>12858</td>\n",
       "      <td>mus_musculus</td>\n",
       "      <td>GRCm39</td>\n",
       "      <td>Cox5a</td>\n",
       "      <td>Cox5a</td>\n",
       "      <td>[CcOX]</td>\n",
       "      <td>NaN</td>\n",
       "      <td>...</td>\n",
       "      <td>[Cox5a-202, Cox5a-201, Cox5a-203]</td>\n",
       "      <td>[1, 1, 1]</td>\n",
       "      <td>[57428557, 57428562, 57428616]</td>\n",
       "      <td>[57439709, 57439709, 57437928]</td>\n",
       "      <td>NaN</td>\n",
       "      <td>NaN</td>\n",
       "      <td>NaN</td>\n",
       "      <td>NaN</td>\n",
       "      <td>NaN</td>\n",
       "      <td>NaN</td>\n",
       "    </tr>\n",
       "  </tbody>\n",
       "</table>\n",
       "<p>3 rows × 34 columns</p>\n",
       "</div>"
      ],
      "text/plain": [
       "                               ensembl_id uniprot_id pdb_id ncbi_gene_id  \\\n",
       "ENSMUSG00000000049  ENSMUSG00000000049.12     Q01339    NaN        11818   \n",
       "ENSMUSG00000000085  ENSMUSG00000000085.17     Q8K214    NaN        29871   \n",
       "ENSMUSG00000000088   ENSMUSG00000000088.8     P12787    NaN        12858   \n",
       "\n",
       "                         species assembly_name primary_gene_name  \\\n",
       "ENSMUSG00000000049  mus_musculus        GRCm39              Apoh   \n",
       "ENSMUSG00000000085  mus_musculus        GRCm39             Scmh1   \n",
       "ENSMUSG00000000088  mus_musculus        GRCm39             Cox5a   \n",
       "\n",
       "                   ensembl_gene_name                               synonyms  \\\n",
       "ENSMUSG00000000049              Apoh  [B2GPI, B2gp1, beta-2-GPI, beta2-GPI]   \n",
       "ENSMUSG00000000085             Scmh1                         [Scml1, Scml3]   \n",
       "ENSMUSG00000000088             Cox5a                                 [CcOX]   \n",
       "\n",
       "                   parent_gene  ...                          transcript_names  \\\n",
       "ENSMUSG00000000049         NaN  ...  [Apoh-201, Apoh-202, Apoh-203, Apoh-204]   \n",
       "ENSMUSG00000000085         NaN  ...                                       NaN   \n",
       "ENSMUSG00000000088         NaN  ...         [Cox5a-202, Cox5a-201, Cox5a-203]   \n",
       "\n",
       "                   transcript_strands  \\\n",
       "ENSMUSG00000000049       [1, 1, 1, 1]   \n",
       "ENSMUSG00000000085                NaN   \n",
       "ENSMUSG00000000088          [1, 1, 1]   \n",
       "\n",
       "                                               transcript_starts  \\\n",
       "ENSMUSG00000000049  [108286119, 108234180, 108271990, 108271995]   \n",
       "ENSMUSG00000000085                                           NaN   \n",
       "ENSMUSG00000000088                [57428557, 57428562, 57428616]   \n",
       "\n",
       "                                                 transcript_ends all_exons  \\\n",
       "ENSMUSG00000000049  [108305222, 108286731, 108286676, 108298165]       NaN   \n",
       "ENSMUSG00000000085                                           NaN       NaN   \n",
       "ENSMUSG00000000088                [57439709, 57439709, 57437928]       NaN   \n",
       "\n",
       "                   exon_starts exon_ends all_translations translation_starts  \\\n",
       "ENSMUSG00000000049         NaN       NaN              NaN                NaN   \n",
       "ENSMUSG00000000085         NaN       NaN              NaN                NaN   \n",
       "ENSMUSG00000000088         NaN       NaN              NaN                NaN   \n",
       "\n",
       "                   translation_ends  \n",
       "ENSMUSG00000000049              NaN  \n",
       "ENSMUSG00000000085              NaN  \n",
       "ENSMUSG00000000088              NaN  \n",
       "\n",
       "[3 rows x 34 columns]"
      ]
     },
     "execution_count": 6,
     "metadata": {},
     "output_type": "execute_result"
    }
   ],
   "source": [
    "results"
   ]
  },
  {
   "cell_type": "code",
   "execution_count": 7,
   "id": "375df6e0-68c0-43d3-b3e6-2fe1f75fcada",
   "metadata": {},
   "outputs": [],
   "source": [
    "selected_columns = results[['ensembl_id', 'uniprot_id']]"
   ]
  },
  {
   "cell_type": "code",
   "execution_count": 8,
   "id": "1159cb84-03bc-41d5-bedb-c28bee68a078",
   "metadata": {},
   "outputs": [
    {
     "data": {
      "text/html": [
       "<div>\n",
       "<style scoped>\n",
       "    .dataframe tbody tr th:only-of-type {\n",
       "        vertical-align: middle;\n",
       "    }\n",
       "\n",
       "    .dataframe tbody tr th {\n",
       "        vertical-align: top;\n",
       "    }\n",
       "\n",
       "    .dataframe thead th {\n",
       "        text-align: right;\n",
       "    }\n",
       "</style>\n",
       "<table border=\"1\" class=\"dataframe\">\n",
       "  <thead>\n",
       "    <tr style=\"text-align: right;\">\n",
       "      <th></th>\n",
       "      <th>ensembl_id</th>\n",
       "      <th>uniprot_id</th>\n",
       "    </tr>\n",
       "  </thead>\n",
       "  <tbody>\n",
       "    <tr>\n",
       "      <th>ENSMUSG00000000049</th>\n",
       "      <td>ENSMUSG00000000049.12</td>\n",
       "      <td>Q01339</td>\n",
       "    </tr>\n",
       "    <tr>\n",
       "      <th>ENSMUSG00000000085</th>\n",
       "      <td>ENSMUSG00000000085.17</td>\n",
       "      <td>Q8K214</td>\n",
       "    </tr>\n",
       "    <tr>\n",
       "      <th>ENSMUSG00000000088</th>\n",
       "      <td>ENSMUSG00000000088.8</td>\n",
       "      <td>P12787</td>\n",
       "    </tr>\n",
       "  </tbody>\n",
       "</table>\n",
       "</div>"
      ],
      "text/plain": [
       "                               ensembl_id uniprot_id\n",
       "ENSMUSG00000000049  ENSMUSG00000000049.12     Q01339\n",
       "ENSMUSG00000000085  ENSMUSG00000000085.17     Q8K214\n",
       "ENSMUSG00000000088   ENSMUSG00000000088.8     P12787"
      ]
     },
     "execution_count": 8,
     "metadata": {},
     "output_type": "execute_result"
    }
   ],
   "source": [
    "selected_columns"
   ]
  },
  {
   "cell_type": "code",
   "execution_count": null,
   "id": "f00acf21-2a5a-4ea6-8562-94f9ae30b84f",
   "metadata": {},
   "outputs": [],
   "source": []
  }
 ],
 "metadata": {
  "kernelspec": {
   "display_name": "Python 3 (ipykernel)",
   "language": "python",
   "name": "python3"
  },
  "language_info": {
   "codemirror_mode": {
    "name": "ipython",
    "version": 3
   },
   "file_extension": ".py",
   "mimetype": "text/x-python",
   "name": "python",
   "nbconvert_exporter": "python",
   "pygments_lexer": "ipython3",
   "version": "3.11.6"
  }
 },
 "nbformat": 4,
 "nbformat_minor": 5
}
