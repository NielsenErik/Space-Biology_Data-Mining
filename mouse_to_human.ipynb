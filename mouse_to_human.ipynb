{
 "cells": [
  {
   "cell_type": "code",
   "execution_count": 21,
   "id": "2f7a26f5-b1b9-428b-af35-5773d04dec58",
   "metadata": {},
   "outputs": [],
   "source": [
    "import pandas as pd\n",
    "df_mouse_genes = pd.read_csv('/Users/xihan/Downloads/laboratory_biological_data_mining/data/GLDS-48_rna_seq_Normalized_Counts.csv')\n",
    "mouse_genes = df_mouse_genes.iloc[:, 0].tolist()"
   ]
  },
  {
   "cell_type": "code",
   "execution_count": null,
   "id": "1f280b3b-22a5-413f-9321-c927e2a16425",
   "metadata": {},
   "outputs": [],
   "source": [
    "from pybiomart import Server\n",
    "server = Server(host='http://www.ensembl.org')\n",
    "server.marts['ENSEMBL_MART_ENSEMBL'].list_datasets()\n"
   ]
  },
  {
   "cell_type": "code",
   "execution_count": 18,
   "id": "07381938-b7cf-403c-ad7c-ce3c010f0217",
   "metadata": {},
   "outputs": [
    {
     "data": {
      "text/plain": [
       "['ENSMUSG00000000001',\n",
       " 'ENSMUSG00000000028',\n",
       " 'ENSMUSG00000000031',\n",
       " 'ENSMUSG00000000037',\n",
       " 'ENSMUSG00000000049',\n",
       " 'ENSMUSG00000000056',\n",
       " 'ENSMUSG00000000058',\n",
       " 'ENSMUSG00000000078',\n",
       " 'ENSMUSG00000000085',\n",
       " 'ENSMUSG00000000088']"
      ]
     },
     "execution_count": 18,
     "metadata": {},
     "output_type": "execute_result"
    }
   ],
   "source": [
    "mouse_genes"
   ]
  },
  {
   "cell_type": "code",
   "execution_count": 12,
   "id": "5a25c8cd-fa1e-4c8f-b96e-55a7da0f8448",
   "metadata": {},
   "outputs": [
    {
     "data": {
      "application/vnd.jupyter.widget-view+json": {
       "model_id": "46d8a384d5ce45368e7d22f9cd65caf0",
       "version_major": 2,
       "version_minor": 0
      },
      "text/plain": [
       "  0%|          | 0/1 [00:00<?, ?it/s]"
      ]
     },
     "metadata": {},
     "output_type": "display_data"
    }
   ],
   "source": [
    "hsmm = findOrthologsMmHs(from_filters = 'link_ensembl_gene_id',\n",
    "                  from_values = ['ENSMUSG00000000001', 'ENSMUSG00000000028']).map()"
   ]
  },
  {
   "cell_type": "code",
   "execution_count": 22,
   "id": "1f22bf18-c6ec-4ff6-9216-45b9fb178dc4",
   "metadata": {},
   "outputs": [
    {
     "data": {
      "application/vnd.jupyter.widget-view+json": {
       "model_id": "b023a224681f49fd9f62d47868f195ff",
       "version_major": 2,
       "version_minor": 0
      },
      "text/plain": [
       "  0%|          | 0/74 [00:00<?, ?it/s]"
      ]
     },
     "metadata": {},
     "output_type": "display_data"
    }
   ],
   "source": [
    "\n",
    "result = findOrthologsMmHs(from_filters='link_ensembl_gene_id', from_values=mouse_genes).map()"
   ]
  },
  {
   "cell_type": "code",
   "execution_count": 23,
   "id": "5e21ba91-cf16-4a79-bd2d-5c9f228db2a1",
   "metadata": {},
   "outputs": [
    {
     "data": {
      "text/html": [
       "<div>\n",
       "<style scoped>\n",
       "    .dataframe tbody tr th:only-of-type {\n",
       "        vertical-align: middle;\n",
       "    }\n",
       "\n",
       "    .dataframe tbody tr th {\n",
       "        vertical-align: top;\n",
       "    }\n",
       "\n",
       "    .dataframe thead th {\n",
       "        text-align: right;\n",
       "    }\n",
       "</style>\n",
       "<table border=\"1\" class=\"dataframe\">\n",
       "  <thead>\n",
       "    <tr style=\"text-align: right;\">\n",
       "      <th></th>\n",
       "      <th>hgnc_symbol</th>\n",
       "      <th>human_ensembl_gene_id</th>\n",
       "      <th>mouse_ensembl_gene_id</th>\n",
       "      <th>external_gene_name</th>\n",
       "    </tr>\n",
       "  </thead>\n",
       "  <tbody>\n",
       "    <tr>\n",
       "      <th>0</th>\n",
       "      <td>CYP51A1</td>\n",
       "      <td>ENSG00000001630</td>\n",
       "      <td>ENSMUSG00000001467</td>\n",
       "      <td>Cyp51</td>\n",
       "    </tr>\n",
       "    <tr>\n",
       "      <th>1</th>\n",
       "      <td>KRIT1</td>\n",
       "      <td>ENSG00000001631</td>\n",
       "      <td>ENSMUSG00000000600</td>\n",
       "      <td>Krit1</td>\n",
       "    </tr>\n",
       "    <tr>\n",
       "      <th>2</th>\n",
       "      <td>POLDIP2</td>\n",
       "      <td>ENSG00000004142</td>\n",
       "      <td>ENSMUSG00000001100</td>\n",
       "      <td>Poldip2</td>\n",
       "    </tr>\n",
       "    <tr>\n",
       "      <th>3</th>\n",
       "      <td>VPS50</td>\n",
       "      <td>ENSG00000004766</td>\n",
       "      <td>ENSMUSG00000001376</td>\n",
       "      <td>Vps50</td>\n",
       "    </tr>\n",
       "    <tr>\n",
       "      <th>4</th>\n",
       "      <td>MEOX1</td>\n",
       "      <td>ENSG00000005102</td>\n",
       "      <td>ENSMUSG00000001493</td>\n",
       "      <td>Meox1</td>\n",
       "    </tr>\n",
       "    <tr>\n",
       "      <th>...</th>\n",
       "      <td>...</td>\n",
       "      <td>...</td>\n",
       "      <td>...</td>\n",
       "      <td>...</td>\n",
       "    </tr>\n",
       "    <tr>\n",
       "      <th>290</th>\n",
       "      <td>NaN</td>\n",
       "      <td>NaN</td>\n",
       "      <td>ENSMUSG00000118353</td>\n",
       "      <td>Nsa2-ps1</td>\n",
       "    </tr>\n",
       "    <tr>\n",
       "      <th>291</th>\n",
       "      <td>NaN</td>\n",
       "      <td>NaN</td>\n",
       "      <td>ENSMUSG00000118366</td>\n",
       "      <td>9130016M20Rik</td>\n",
       "    </tr>\n",
       "    <tr>\n",
       "      <th>292</th>\n",
       "      <td>NaN</td>\n",
       "      <td>NaN</td>\n",
       "      <td>ENSMUSG00000118383</td>\n",
       "      <td>Gm50321</td>\n",
       "    </tr>\n",
       "    <tr>\n",
       "      <th>293</th>\n",
       "      <td>NaN</td>\n",
       "      <td>NaN</td>\n",
       "      <td>ENSMUSG00000118384</td>\n",
       "      <td>9030625G05Rik</td>\n",
       "    </tr>\n",
       "    <tr>\n",
       "      <th>294</th>\n",
       "      <td>NaN</td>\n",
       "      <td>NaN</td>\n",
       "      <td>ENSMUSG00000118386</td>\n",
       "      <td>Gm50149</td>\n",
       "    </tr>\n",
       "  </tbody>\n",
       "</table>\n",
       "<p>22503 rows × 4 columns</p>\n",
       "</div>"
      ],
      "text/plain": [
       "    hgnc_symbol human_ensembl_gene_id mouse_ensembl_gene_id external_gene_name\n",
       "0       CYP51A1       ENSG00000001630    ENSMUSG00000001467              Cyp51\n",
       "1         KRIT1       ENSG00000001631    ENSMUSG00000000600              Krit1\n",
       "2       POLDIP2       ENSG00000004142    ENSMUSG00000001100            Poldip2\n",
       "3         VPS50       ENSG00000004766    ENSMUSG00000001376              Vps50\n",
       "4         MEOX1       ENSG00000005102    ENSMUSG00000001493              Meox1\n",
       "..          ...                   ...                   ...                ...\n",
       "290         NaN                   NaN    ENSMUSG00000118353           Nsa2-ps1\n",
       "291         NaN                   NaN    ENSMUSG00000118366      9130016M20Rik\n",
       "292         NaN                   NaN    ENSMUSG00000118383            Gm50321\n",
       "293         NaN                   NaN    ENSMUSG00000118384      9030625G05Rik\n",
       "294         NaN                   NaN    ENSMUSG00000118386            Gm50149\n",
       "\n",
       "[22503 rows x 4 columns]"
      ]
     },
     "execution_count": 23,
     "metadata": {},
     "output_type": "execute_result"
    }
   ],
   "source": [
    "result"
   ]
  },
  {
   "cell_type": "code",
   "execution_count": 24,
   "id": "185fb842-1999-41f5-9ccf-dba2c24406af",
   "metadata": {},
   "outputs": [],
   "source": [
    "filtered_result = result.dropna(subset=['human_ensembl_gene_id'])"
   ]
  },
  {
   "cell_type": "code",
   "execution_count": 25,
   "id": "967fb95c-478a-452e-867d-67961454edf1",
   "metadata": {},
   "outputs": [
    {
     "data": {
      "text/html": [
       "<div>\n",
       "<style scoped>\n",
       "    .dataframe tbody tr th:only-of-type {\n",
       "        vertical-align: middle;\n",
       "    }\n",
       "\n",
       "    .dataframe tbody tr th {\n",
       "        vertical-align: top;\n",
       "    }\n",
       "\n",
       "    .dataframe thead th {\n",
       "        text-align: right;\n",
       "    }\n",
       "</style>\n",
       "<table border=\"1\" class=\"dataframe\">\n",
       "  <thead>\n",
       "    <tr style=\"text-align: right;\">\n",
       "      <th></th>\n",
       "      <th>hgnc_symbol</th>\n",
       "      <th>human_ensembl_gene_id</th>\n",
       "      <th>mouse_ensembl_gene_id</th>\n",
       "      <th>external_gene_name</th>\n",
       "    </tr>\n",
       "  </thead>\n",
       "  <tbody>\n",
       "    <tr>\n",
       "      <th>0</th>\n",
       "      <td>CYP51A1</td>\n",
       "      <td>ENSG00000001630</td>\n",
       "      <td>ENSMUSG00000001467</td>\n",
       "      <td>Cyp51</td>\n",
       "    </tr>\n",
       "    <tr>\n",
       "      <th>1</th>\n",
       "      <td>KRIT1</td>\n",
       "      <td>ENSG00000001631</td>\n",
       "      <td>ENSMUSG00000000600</td>\n",
       "      <td>Krit1</td>\n",
       "    </tr>\n",
       "    <tr>\n",
       "      <th>2</th>\n",
       "      <td>POLDIP2</td>\n",
       "      <td>ENSG00000004142</td>\n",
       "      <td>ENSMUSG00000001100</td>\n",
       "      <td>Poldip2</td>\n",
       "    </tr>\n",
       "    <tr>\n",
       "      <th>3</th>\n",
       "      <td>VPS50</td>\n",
       "      <td>ENSG00000004766</td>\n",
       "      <td>ENSMUSG00000001376</td>\n",
       "      <td>Vps50</td>\n",
       "    </tr>\n",
       "    <tr>\n",
       "      <th>4</th>\n",
       "      <td>MEOX1</td>\n",
       "      <td>ENSG00000005102</td>\n",
       "      <td>ENSMUSG00000001493</td>\n",
       "      <td>Meox1</td>\n",
       "    </tr>\n",
       "    <tr>\n",
       "      <th>...</th>\n",
       "      <td>...</td>\n",
       "      <td>...</td>\n",
       "      <td>...</td>\n",
       "      <td>...</td>\n",
       "    </tr>\n",
       "    <tr>\n",
       "      <th>12</th>\n",
       "      <td>TMEM179B</td>\n",
       "      <td>ENSG00000185475</td>\n",
       "      <td>ENSMUSG00000118346</td>\n",
       "      <td>Tmem179b</td>\n",
       "    </tr>\n",
       "    <tr>\n",
       "      <th>13</th>\n",
       "      <td>ZNF34</td>\n",
       "      <td>ENSG00000196378</td>\n",
       "      <td>ENSMUSG00000117284</td>\n",
       "      <td>Gm7072</td>\n",
       "    </tr>\n",
       "    <tr>\n",
       "      <th>14</th>\n",
       "      <td>ASDURF</td>\n",
       "      <td>ENSG00000286053</td>\n",
       "      <td>ENSMUSG00000117809</td>\n",
       "      <td>Gm50478</td>\n",
       "    </tr>\n",
       "    <tr>\n",
       "      <th>15</th>\n",
       "      <td>DERPC</td>\n",
       "      <td>ENSG00000286140</td>\n",
       "      <td>ENSMUSG00000117748</td>\n",
       "      <td>Derpc</td>\n",
       "    </tr>\n",
       "    <tr>\n",
       "      <th>16</th>\n",
       "      <td>NaN</td>\n",
       "      <td>ENSG00000286224</td>\n",
       "      <td>ENSMUSG00000117965</td>\n",
       "      <td>Gm56118</td>\n",
       "    </tr>\n",
       "  </tbody>\n",
       "</table>\n",
       "<p>15750 rows × 4 columns</p>\n",
       "</div>"
      ],
      "text/plain": [
       "   hgnc_symbol human_ensembl_gene_id mouse_ensembl_gene_id external_gene_name\n",
       "0      CYP51A1       ENSG00000001630    ENSMUSG00000001467              Cyp51\n",
       "1        KRIT1       ENSG00000001631    ENSMUSG00000000600              Krit1\n",
       "2      POLDIP2       ENSG00000004142    ENSMUSG00000001100            Poldip2\n",
       "3        VPS50       ENSG00000004766    ENSMUSG00000001376              Vps50\n",
       "4        MEOX1       ENSG00000005102    ENSMUSG00000001493              Meox1\n",
       "..         ...                   ...                   ...                ...\n",
       "12    TMEM179B       ENSG00000185475    ENSMUSG00000118346           Tmem179b\n",
       "13       ZNF34       ENSG00000196378    ENSMUSG00000117284             Gm7072\n",
       "14      ASDURF       ENSG00000286053    ENSMUSG00000117809            Gm50478\n",
       "15       DERPC       ENSG00000286140    ENSMUSG00000117748              Derpc\n",
       "16         NaN       ENSG00000286224    ENSMUSG00000117965            Gm56118\n",
       "\n",
       "[15750 rows x 4 columns]"
      ]
     },
     "execution_count": 25,
     "metadata": {},
     "output_type": "execute_result"
    }
   ],
   "source": [
    "filtered_result"
   ]
  },
  {
   "cell_type": "code",
   "execution_count": 28,
   "id": "7ffec065-417c-4ce2-aa1b-c04153256e4a",
   "metadata": {},
   "outputs": [],
   "source": [
    "from openpyxl import load_workbook\n",
    "\n",
    "import os\n",
    "import re\n",
    "excel_file_name = 'map_mouse_human.xlsx'\n",
    "#save the dataFrame to an Excel file\n",
    "filtered_result.to_excel(excel_file_name, index=False)"
   ]
  },
  {
   "cell_type": "code",
   "execution_count": 29,
   "id": "408fd7fc-acd4-4a5a-b5d2-a00c73491b95",
   "metadata": {},
   "outputs": [],
   "source": [
    "if os.path.exists(excel_file_name):\n",
    "    # Load the Excel workbook\n",
    "    try:\n",
    "        wb = load_workbook(excel_file_name)\n",
    "        \n",
    "        # Select the active worksheet\n",
    "        ws = wb.active\n",
    "        \n",
    "        # Set the width of the first column (which is 'A' in Excel)\n",
    "        ws.column_dimensions['A'].width = 15\n",
    "        ws.column_dimensions['B'].width = 50\n",
    "        ws.column_dimensions['C'].width = 50\n",
    "        ws.column_dimensions['D'].width = 30\n",
    "\n",
    "        \n",
    "        # Save the changes\n",
    "        wb.save(excel_file_name)\n",
    "    except Exception as e:\n",
    "        print(f\"An error occurred: {e}\")\n",
    "else:\n",
    "    print(f\"The file {excel_file_name} does not exist.\")"
   ]
  },
  {
   "cell_type": "code",
   "execution_count": null,
   "id": "6448f07f-1862-46d1-b709-78addeae0949",
   "metadata": {},
   "outputs": [],
   "source": []
  }
 ],
 "metadata": {
  "kernelspec": {
   "display_name": "Python 3 (ipykernel)",
   "language": "python",
   "name": "python3"
  },
  "language_info": {
   "codemirror_mode": {
    "name": "ipython",
    "version": 3
   },
   "file_extension": ".py",
   "mimetype": "text/x-python",
   "name": "python",
   "nbconvert_exporter": "python",
   "pygments_lexer": "ipython3",
   "version": "3.8.18"
  }
 },
 "nbformat": 4,
 "nbformat_minor": 5
}
